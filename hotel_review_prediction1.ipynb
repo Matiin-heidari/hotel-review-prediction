{
  "nbformat": 4,
  "nbformat_minor": 0,
  "metadata": {
    "colab": {
      "provenance": [],
      "gpuType": "T4"
    },
    "kernelspec": {
      "name": "python3",
      "display_name": "Python 3"
    },
    "language_info": {
      "name": "python"
    },
    "accelerator": "GPU"
  },
  "cells": [
    {
      "cell_type": "code",
      "execution_count": 1,
      "metadata": {
        "id": "bMIMF2KFIjys"
      },
      "outputs": [],
      "source": [
        "from keras._tf_keras.keras.models import Model\n",
        "from keras._tf_keras.keras.layers import Input, Embedding, LSTM, Conv1D, GlobalMaxPooling1D, Dense, concatenate, Flatten, Dropout\n",
        "from keras._tf_keras.keras.preprocessing.text import Tokenizer\n",
        "from keras._tf_keras.keras.preprocessing.sequence import pad_sequences\n",
        "from keras._tf_keras.keras.optimizers import Adam\n",
        "from keras._tf_keras.keras.callbacks import EarlyStopping\n",
        "from keras._tf_keras.keras.metrics import AUC, Recall, Precision\n",
        "\n",
        "import urllib\n",
        "import os\n",
        "import numpy as np\n",
        "import pandas as pd\n",
        "\n",
        "from sklearn.model_selection import train_test_split\n",
        "from sklearn.preprocessing import StandardScaler, LabelEncoder\n",
        "from sklearn.metrics import accuracy_score, f1_score, roc_auc_score, mean_absolute_error, mean_squared_error, precision_score, recall_score"
      ]
    },
    {
      "cell_type": "code",
      "source": [
        "file_url = \"https://raw.githubusercontent.com/Matiin-heidari/hotel-review-predictor/main/data/input_data.csv\"\n",
        "df = pd.read_csv(file_url)\n",
        "df.drop(columns=['Average_Score'], inplace=True)"
      ],
      "metadata": {
        "id": "-Hl_z_GZL1Gq"
      },
      "execution_count": 25,
      "outputs": []
    },
    {
      "cell_type": "code",
      "source": [
        "max_words_review = 400"
      ],
      "metadata": {
        "id": "C2NcZ_PLNRBN"
      },
      "execution_count": 26,
      "outputs": []
    },
    {
      "cell_type": "markdown",
      "source": [
        "## Preprocessing"
      ],
      "metadata": {
        "id": "_VeoZDE3Jyvx"
      }
    },
    {
      "cell_type": "code",
      "source": [
        "df['Combined Text'] = df['Review'].fillna('') + \" \" + df['Hotel_Address'].fillna('')\n",
        "tokenizer = Tokenizer(num_words=10000, oov_token=\"<unk>\")\n",
        "tokenizer.fit_on_texts(df['Combined Text'])\n",
        "\n",
        "text_sequences = tokenizer.texts_to_sequences(df['Combined Text'])\n",
        "padded_text_sequences = pad_sequences(text_sequences, maxlen=max_words_review, padding='post', truncating='post')\n",
        "\n",
        "vocab_size = len(tokenizer.word_index) + 1 # +1 for padding token (index 0)"
      ],
      "metadata": {
        "id": "Q6Hr331TZmcX"
      },
      "execution_count": 28,
      "outputs": []
    },
    {
      "cell_type": "code",
      "source": [
        "# Categorical Preprocessing: Hotel Name, Reviewer Nationality\n",
        "le_hotel_name = LabelEncoder()\n",
        "df['Hotel Name Encoded'] = le_hotel_name.fit_transform(df['Hotel_Name'])\n",
        "\n",
        "le_reviewer_nationality = LabelEncoder()\n",
        "df['Reviewer Nationality Encoded'] = le_reviewer_nationality.fit_transform(df['Reviewer_Nationality'])"
      ],
      "metadata": {
        "id": "a1YuhPP1ZnTE"
      },
      "execution_count": 5,
      "outputs": []
    },
    {
      "cell_type": "code",
      "source": [
        "# Numerical Preprocessing: Hotel number reviews, Reviewer number reviews, Review Date\n",
        "df['Review Month'] = pd.to_datetime(df['Review_Date'], format='%m/%d/%Y').dt.month\n",
        "df['Review Year'] = pd.to_datetime(df['Review_Date'], format='%m/%d/%Y').dt.year\n",
        "\n",
        "numerical_features_columns = ['Hotel_number_reviews', 'Reviewer_number_reviews', 'Review Month', 'Review Year']\n",
        "numerical_features = df[numerical_features_columns].values"
      ],
      "metadata": {
        "id": "aCxYNy67ZooK"
      },
      "execution_count": 6,
      "outputs": []
    },
    {
      "cell_type": "code",
      "source": [
        "X_text = padded_text_sequences\n",
        "X_categorical = df[['Hotel Name Encoded', 'Reviewer Nationality Encoded']].values\n",
        "X_numerical = numerical_features"
      ],
      "metadata": {
        "id": "pPe9aBDTZrep"
      },
      "execution_count": 7,
      "outputs": []
    },
    {
      "cell_type": "code",
      "source": [
        "# Labels for outputs\n",
        "y_review_type = np.array([1 if rt == 'Good_review' else 0 for rt in df['Review_Type']])\n",
        "y_review_score = df['Review_Score'].values"
      ],
      "metadata": {
        "id": "prEtDoOuLpOo"
      },
      "execution_count": 8,
      "outputs": []
    },
    {
      "cell_type": "code",
      "source": [
        "X_train_text, X_test_text, X_train_cat, X_test_cat, X_train_num, X_test_num, \\\n",
        "y_train_type, y_test_type, y_train_score, y_test_score = train_test_split(\n",
        "    X_text, X_categorical, X_numerical, y_review_type, y_review_score,\n",
        "    test_size=0.2, random_state=42, stratify=y_review_type\n",
        ")"
      ],
      "metadata": {
        "id": "wOdkDTUGOYi6"
      },
      "execution_count": 9,
      "outputs": []
    },
    {
      "cell_type": "code",
      "source": [
        "scaler = StandardScaler()\n",
        "scaler.fit(X_train_num)\n",
        "scaled_x_train_num = scaler.transform(X_train_num)\n",
        "scaled_x_test_num = scaler.transform(X_test_num)"
      ],
      "metadata": {
        "id": "2MYLYCyvOahB"
      },
      "execution_count": 10,
      "outputs": []
    },
    {
      "cell_type": "code",
      "source": [
        "X_train = {'text_input': X_train_text, 'categorical_input': X_train_cat, 'numerical_input': scaled_x_train_num}\n",
        "y_train = {'review_type_output': y_train_type, 'review_score_output': y_train_score}\n",
        "\n",
        "X_test = {'text_input': X_test_text, 'categorical_input': X_test_cat, 'numerical_input': scaled_x_test_num}\n",
        "y_test = {'review_type_output': y_test_type, 'review_score_output': y_test_score}"
      ],
      "metadata": {
        "id": "7buQkgdQOaF9"
      },
      "execution_count": 11,
      "outputs": []
    },
    {
      "cell_type": "markdown",
      "source": [
        "## Model Developement and Training"
      ],
      "metadata": {
        "id": "exbzT7lbhIwR"
      }
    },
    {
      "cell_type": "code",
      "source": [
        "def build_hotel_review_model(\n",
        "    vocab_size, embedding_dim, max_sequence_length,\n",
        "    num_categorical_features, num_numerical_features,\n",
        "    lstm_units=128, dense_units_text=64, dense_units_categorical=32,\n",
        "    dense_units_numerical=32, shared_dense_layers=2,\n",
        "    shared_dense_units=128, dropout_rate=0.3\n",
        "):\n",
        "    text_input = Input(shape=(max_sequence_length,), name='text_input')\n",
        "    x_text = Embedding(input_dim=vocab_size, output_dim=embedding_dim, input_length=max_sequence_length)(text_input)\n",
        "\n",
        "    x_text = LSTM(lstm_units, return_sequences=False)(x_text)\n",
        "\n",
        "    x_text = Dense(dense_units_text, activation='relu')(x_text)\n",
        "    x_text = Dropout(dropout_rate)(x_text)\n",
        "\n",
        "\n",
        "    categorical_input = Input(shape=(num_categorical_features,), name='categorical_input')\n",
        "\n",
        "    x_cat = Dense(dense_units_categorical, activation='relu')(categorical_input)\n",
        "    x_cat = Dropout(dropout_rate)(x_cat)\n",
        "\n",
        "    numerical_input = Input(shape=(num_numerical_features,), name='numerical_input')\n",
        "    x_num = Dense(dense_units_numerical, activation='relu')(numerical_input)\n",
        "    x_num = Dropout(dropout_rate)(x_num)\n",
        "\n",
        "    # Merging All Branches\n",
        "    merged = concatenate([x_text, x_cat, x_num])\n",
        "\n",
        "    # Shared Dense Layers\n",
        "    shared_output = merged\n",
        "    for _ in range(shared_dense_layers):\n",
        "        shared_output = Dense(shared_dense_units, activation='relu')(shared_output)\n",
        "        shared_output = Dropout(dropout_rate)(shared_output)\n",
        "\n",
        "    # Output Layers\n",
        "\n",
        "    # Classification Head: Predicts Review Type (Bad/Good)\n",
        "    classification_output = Dense(1, activation='sigmoid', name='review_type_output')(shared_output)\n",
        "\n",
        "    # Regression Head: Predicts Review Score\n",
        "    regression_output = Dense(1, activation='linear', name='review_score_output')(shared_output)\n",
        "\n",
        "    # Define the model with multiple inputs and multiple outputs\n",
        "    model = Model(\n",
        "        inputs=[text_input, categorical_input, numerical_input],\n",
        "        outputs=[classification_output, regression_output]\n",
        "    )\n",
        "    return model"
      ],
      "metadata": {
        "id": "B5UqYdsbN1XE"
      },
      "execution_count": 12,
      "outputs": []
    },
    {
      "cell_type": "code",
      "source": [
        "# Hyperparameters:\n",
        "embedding_dim_hparam = 100\n",
        "lstm_units_hparam = 128\n",
        "dense_units_text_hparam = 64\n",
        "dense_units_categorical_hparam = 32\n",
        "dense_units_numerical_hparam = 32\n",
        "shared_dense_units_hparam = 128\n",
        "dropout_rate_hparam = 0.3\n",
        "learning_rate_hparam = 0.001\n",
        "batch_size_hparam = 32\n",
        "epochs_hparam = 50\n",
        "loss_weights_hparam = {'review_type_output': 0.5, 'review_score_output': 0.5}"
      ],
      "metadata": {
        "id": "5eQ4EZn1OkE4"
      },
      "execution_count": 13,
      "outputs": []
    },
    {
      "cell_type": "code",
      "source": [
        "# Initialize the model\n",
        "model = build_hotel_review_model(\n",
        "    vocab_size=vocab_size,\n",
        "    embedding_dim=embedding_dim_hparam,\n",
        "    max_sequence_length=max_words_review,\n",
        "    num_categorical_features=X_categorical.shape[1],\n",
        "    num_numerical_features=X_numerical.shape[1],\n",
        "    lstm_units=lstm_units_hparam,\n",
        "    dense_units_text=dense_units_text_hparam,\n",
        "    dense_units_categorical=dense_units_categorical_hparam,\n",
        "    dense_units_numerical=dense_units_numerical_hparam,\n",
        "    shared_dense_layers=2,\n",
        "    shared_dense_units=shared_dense_units_hparam,\n",
        "    dropout_rate=dropout_rate_hparam\n",
        ")"
      ],
      "metadata": {
        "colab": {
          "base_uri": "https://localhost:8080/"
        },
        "id": "EUeNQtKGOm0j",
        "outputId": "6d567cd9-dbd7-48c8-e671-22701cdbfb0f"
      },
      "execution_count": 14,
      "outputs": [
        {
          "output_type": "stream",
          "name": "stderr",
          "text": [
            "/usr/local/lib/python3.11/dist-packages/keras/src/layers/core/embedding.py:90: UserWarning: Argument `input_length` is deprecated. Just remove it.\n",
            "  warnings.warn(\n"
          ]
        }
      ]
    },
    {
      "cell_type": "code",
      "source": [
        "model.compile(\n",
        "    optimizer=Adam(learning_rate=learning_rate_hparam),\n",
        "    loss={\n",
        "        'review_type_output': 'binary_crossentropy',\n",
        "        'review_score_output': 'mean_squared_error'\n",
        "    },\n",
        "    loss_weights=loss_weights_hparam\n",
        ")\n"
      ],
      "metadata": {
        "id": "Zueui7cBOfeA"
      },
      "execution_count": 15,
      "outputs": []
    },
    {
      "cell_type": "code",
      "source": [
        "model.summary()"
      ],
      "metadata": {
        "colab": {
          "base_uri": "https://localhost:8080/",
          "height": 884
        },
        "id": "npRfJyDUOpmk",
        "outputId": "188f9517-5e6b-48ba-aa42-daef0e860feb"
      },
      "execution_count": 16,
      "outputs": [
        {
          "output_type": "display_data",
          "data": {
            "text/plain": [
              "\u001b[1mModel: \"functional\"\u001b[0m\n"
            ],
            "text/html": [
              "<pre style=\"white-space:pre;overflow-x:auto;line-height:normal;font-family:Menlo,'DejaVu Sans Mono',consolas,'Courier New',monospace\"><span style=\"font-weight: bold\">Model: \"functional\"</span>\n",
              "</pre>\n"
            ]
          },
          "metadata": {}
        },
        {
          "output_type": "display_data",
          "data": {
            "text/plain": [
              "┏━━━━━━━━━━━━━━━━━━━━━┳━━━━━━━━━━━━━━━━━━━┳━━━━━━━━━━━━┳━━━━━━━━━━━━━━━━━━━┓\n",
              "┃\u001b[1m \u001b[0m\u001b[1mLayer (type)       \u001b[0m\u001b[1m \u001b[0m┃\u001b[1m \u001b[0m\u001b[1mOutput Shape     \u001b[0m\u001b[1m \u001b[0m┃\u001b[1m \u001b[0m\u001b[1m   Param #\u001b[0m\u001b[1m \u001b[0m┃\u001b[1m \u001b[0m\u001b[1mConnected to     \u001b[0m\u001b[1m \u001b[0m┃\n",
              "┡━━━━━━━━━━━━━━━━━━━━━╇━━━━━━━━━━━━━━━━━━━╇━━━━━━━━━━━━╇━━━━━━━━━━━━━━━━━━━┩\n",
              "│ text_input          │ (\u001b[38;5;45mNone\u001b[0m, \u001b[38;5;34m400\u001b[0m)       │          \u001b[38;5;34m0\u001b[0m │ -                 │\n",
              "│ (\u001b[38;5;33mInputLayer\u001b[0m)        │                   │            │                   │\n",
              "├─────────────────────┼───────────────────┼────────────┼───────────────────┤\n",
              "│ embedding           │ (\u001b[38;5;45mNone\u001b[0m, \u001b[38;5;34m400\u001b[0m, \u001b[38;5;34m100\u001b[0m)  │  \u001b[38;5;34m1,393,200\u001b[0m │ text_input[\u001b[38;5;34m0\u001b[0m][\u001b[38;5;34m0\u001b[0m]  │\n",
              "│ (\u001b[38;5;33mEmbedding\u001b[0m)         │                   │            │                   │\n",
              "├─────────────────────┼───────────────────┼────────────┼───────────────────┤\n",
              "│ lstm (\u001b[38;5;33mLSTM\u001b[0m)         │ (\u001b[38;5;45mNone\u001b[0m, \u001b[38;5;34m128\u001b[0m)       │    \u001b[38;5;34m117,248\u001b[0m │ embedding[\u001b[38;5;34m0\u001b[0m][\u001b[38;5;34m0\u001b[0m]   │\n",
              "├─────────────────────┼───────────────────┼────────────┼───────────────────┤\n",
              "│ categorical_input   │ (\u001b[38;5;45mNone\u001b[0m, \u001b[38;5;34m2\u001b[0m)         │          \u001b[38;5;34m0\u001b[0m │ -                 │\n",
              "│ (\u001b[38;5;33mInputLayer\u001b[0m)        │                   │            │                   │\n",
              "├─────────────────────┼───────────────────┼────────────┼───────────────────┤\n",
              "│ numerical_input     │ (\u001b[38;5;45mNone\u001b[0m, \u001b[38;5;34m4\u001b[0m)         │          \u001b[38;5;34m0\u001b[0m │ -                 │\n",
              "│ (\u001b[38;5;33mInputLayer\u001b[0m)        │                   │            │                   │\n",
              "├─────────────────────┼───────────────────┼────────────┼───────────────────┤\n",
              "│ dense (\u001b[38;5;33mDense\u001b[0m)       │ (\u001b[38;5;45mNone\u001b[0m, \u001b[38;5;34m64\u001b[0m)        │      \u001b[38;5;34m8,256\u001b[0m │ lstm[\u001b[38;5;34m0\u001b[0m][\u001b[38;5;34m0\u001b[0m]        │\n",
              "├─────────────────────┼───────────────────┼────────────┼───────────────────┤\n",
              "│ dense_1 (\u001b[38;5;33mDense\u001b[0m)     │ (\u001b[38;5;45mNone\u001b[0m, \u001b[38;5;34m32\u001b[0m)        │         \u001b[38;5;34m96\u001b[0m │ categorical_inpu… │\n",
              "├─────────────────────┼───────────────────┼────────────┼───────────────────┤\n",
              "│ dense_2 (\u001b[38;5;33mDense\u001b[0m)     │ (\u001b[38;5;45mNone\u001b[0m, \u001b[38;5;34m32\u001b[0m)        │        \u001b[38;5;34m160\u001b[0m │ numerical_input[\u001b[38;5;34m…\u001b[0m │\n",
              "├─────────────────────┼───────────────────┼────────────┼───────────────────┤\n",
              "│ dropout (\u001b[38;5;33mDropout\u001b[0m)   │ (\u001b[38;5;45mNone\u001b[0m, \u001b[38;5;34m64\u001b[0m)        │          \u001b[38;5;34m0\u001b[0m │ dense[\u001b[38;5;34m0\u001b[0m][\u001b[38;5;34m0\u001b[0m]       │\n",
              "├─────────────────────┼───────────────────┼────────────┼───────────────────┤\n",
              "│ dropout_1 (\u001b[38;5;33mDropout\u001b[0m) │ (\u001b[38;5;45mNone\u001b[0m, \u001b[38;5;34m32\u001b[0m)        │          \u001b[38;5;34m0\u001b[0m │ dense_1[\u001b[38;5;34m0\u001b[0m][\u001b[38;5;34m0\u001b[0m]     │\n",
              "├─────────────────────┼───────────────────┼────────────┼───────────────────┤\n",
              "│ dropout_2 (\u001b[38;5;33mDropout\u001b[0m) │ (\u001b[38;5;45mNone\u001b[0m, \u001b[38;5;34m32\u001b[0m)        │          \u001b[38;5;34m0\u001b[0m │ dense_2[\u001b[38;5;34m0\u001b[0m][\u001b[38;5;34m0\u001b[0m]     │\n",
              "├─────────────────────┼───────────────────┼────────────┼───────────────────┤\n",
              "│ concatenate         │ (\u001b[38;5;45mNone\u001b[0m, \u001b[38;5;34m128\u001b[0m)       │          \u001b[38;5;34m0\u001b[0m │ dropout[\u001b[38;5;34m0\u001b[0m][\u001b[38;5;34m0\u001b[0m],    │\n",
              "│ (\u001b[38;5;33mConcatenate\u001b[0m)       │                   │            │ dropout_1[\u001b[38;5;34m0\u001b[0m][\u001b[38;5;34m0\u001b[0m],  │\n",
              "│                     │                   │            │ dropout_2[\u001b[38;5;34m0\u001b[0m][\u001b[38;5;34m0\u001b[0m]   │\n",
              "├─────────────────────┼───────────────────┼────────────┼───────────────────┤\n",
              "│ dense_3 (\u001b[38;5;33mDense\u001b[0m)     │ (\u001b[38;5;45mNone\u001b[0m, \u001b[38;5;34m128\u001b[0m)       │     \u001b[38;5;34m16,512\u001b[0m │ concatenate[\u001b[38;5;34m0\u001b[0m][\u001b[38;5;34m0\u001b[0m] │\n",
              "├─────────────────────┼───────────────────┼────────────┼───────────────────┤\n",
              "│ dropout_3 (\u001b[38;5;33mDropout\u001b[0m) │ (\u001b[38;5;45mNone\u001b[0m, \u001b[38;5;34m128\u001b[0m)       │          \u001b[38;5;34m0\u001b[0m │ dense_3[\u001b[38;5;34m0\u001b[0m][\u001b[38;5;34m0\u001b[0m]     │\n",
              "├─────────────────────┼───────────────────┼────────────┼───────────────────┤\n",
              "│ dense_4 (\u001b[38;5;33mDense\u001b[0m)     │ (\u001b[38;5;45mNone\u001b[0m, \u001b[38;5;34m128\u001b[0m)       │     \u001b[38;5;34m16,512\u001b[0m │ dropout_3[\u001b[38;5;34m0\u001b[0m][\u001b[38;5;34m0\u001b[0m]   │\n",
              "├─────────────────────┼───────────────────┼────────────┼───────────────────┤\n",
              "│ dropout_4 (\u001b[38;5;33mDropout\u001b[0m) │ (\u001b[38;5;45mNone\u001b[0m, \u001b[38;5;34m128\u001b[0m)       │          \u001b[38;5;34m0\u001b[0m │ dense_4[\u001b[38;5;34m0\u001b[0m][\u001b[38;5;34m0\u001b[0m]     │\n",
              "├─────────────────────┼───────────────────┼────────────┼───────────────────┤\n",
              "│ review_type_output  │ (\u001b[38;5;45mNone\u001b[0m, \u001b[38;5;34m1\u001b[0m)         │        \u001b[38;5;34m129\u001b[0m │ dropout_4[\u001b[38;5;34m0\u001b[0m][\u001b[38;5;34m0\u001b[0m]   │\n",
              "│ (\u001b[38;5;33mDense\u001b[0m)             │                   │            │                   │\n",
              "├─────────────────────┼───────────────────┼────────────┼───────────────────┤\n",
              "│ review_score_output │ (\u001b[38;5;45mNone\u001b[0m, \u001b[38;5;34m1\u001b[0m)         │        \u001b[38;5;34m129\u001b[0m │ dropout_4[\u001b[38;5;34m0\u001b[0m][\u001b[38;5;34m0\u001b[0m]   │\n",
              "│ (\u001b[38;5;33mDense\u001b[0m)             │                   │            │                   │\n",
              "└─────────────────────┴───────────────────┴────────────┴───────────────────┘\n"
            ],
            "text/html": [
              "<pre style=\"white-space:pre;overflow-x:auto;line-height:normal;font-family:Menlo,'DejaVu Sans Mono',consolas,'Courier New',monospace\">┏━━━━━━━━━━━━━━━━━━━━━┳━━━━━━━━━━━━━━━━━━━┳━━━━━━━━━━━━┳━━━━━━━━━━━━━━━━━━━┓\n",
              "┃<span style=\"font-weight: bold\"> Layer (type)        </span>┃<span style=\"font-weight: bold\"> Output Shape      </span>┃<span style=\"font-weight: bold\">    Param # </span>┃<span style=\"font-weight: bold\"> Connected to      </span>┃\n",
              "┡━━━━━━━━━━━━━━━━━━━━━╇━━━━━━━━━━━━━━━━━━━╇━━━━━━━━━━━━╇━━━━━━━━━━━━━━━━━━━┩\n",
              "│ text_input          │ (<span style=\"color: #00d7ff; text-decoration-color: #00d7ff\">None</span>, <span style=\"color: #00af00; text-decoration-color: #00af00\">400</span>)       │          <span style=\"color: #00af00; text-decoration-color: #00af00\">0</span> │ -                 │\n",
              "│ (<span style=\"color: #0087ff; text-decoration-color: #0087ff\">InputLayer</span>)        │                   │            │                   │\n",
              "├─────────────────────┼───────────────────┼────────────┼───────────────────┤\n",
              "│ embedding           │ (<span style=\"color: #00d7ff; text-decoration-color: #00d7ff\">None</span>, <span style=\"color: #00af00; text-decoration-color: #00af00\">400</span>, <span style=\"color: #00af00; text-decoration-color: #00af00\">100</span>)  │  <span style=\"color: #00af00; text-decoration-color: #00af00\">1,393,200</span> │ text_input[<span style=\"color: #00af00; text-decoration-color: #00af00\">0</span>][<span style=\"color: #00af00; text-decoration-color: #00af00\">0</span>]  │\n",
              "│ (<span style=\"color: #0087ff; text-decoration-color: #0087ff\">Embedding</span>)         │                   │            │                   │\n",
              "├─────────────────────┼───────────────────┼────────────┼───────────────────┤\n",
              "│ lstm (<span style=\"color: #0087ff; text-decoration-color: #0087ff\">LSTM</span>)         │ (<span style=\"color: #00d7ff; text-decoration-color: #00d7ff\">None</span>, <span style=\"color: #00af00; text-decoration-color: #00af00\">128</span>)       │    <span style=\"color: #00af00; text-decoration-color: #00af00\">117,248</span> │ embedding[<span style=\"color: #00af00; text-decoration-color: #00af00\">0</span>][<span style=\"color: #00af00; text-decoration-color: #00af00\">0</span>]   │\n",
              "├─────────────────────┼───────────────────┼────────────┼───────────────────┤\n",
              "│ categorical_input   │ (<span style=\"color: #00d7ff; text-decoration-color: #00d7ff\">None</span>, <span style=\"color: #00af00; text-decoration-color: #00af00\">2</span>)         │          <span style=\"color: #00af00; text-decoration-color: #00af00\">0</span> │ -                 │\n",
              "│ (<span style=\"color: #0087ff; text-decoration-color: #0087ff\">InputLayer</span>)        │                   │            │                   │\n",
              "├─────────────────────┼───────────────────┼────────────┼───────────────────┤\n",
              "│ numerical_input     │ (<span style=\"color: #00d7ff; text-decoration-color: #00d7ff\">None</span>, <span style=\"color: #00af00; text-decoration-color: #00af00\">4</span>)         │          <span style=\"color: #00af00; text-decoration-color: #00af00\">0</span> │ -                 │\n",
              "│ (<span style=\"color: #0087ff; text-decoration-color: #0087ff\">InputLayer</span>)        │                   │            │                   │\n",
              "├─────────────────────┼───────────────────┼────────────┼───────────────────┤\n",
              "│ dense (<span style=\"color: #0087ff; text-decoration-color: #0087ff\">Dense</span>)       │ (<span style=\"color: #00d7ff; text-decoration-color: #00d7ff\">None</span>, <span style=\"color: #00af00; text-decoration-color: #00af00\">64</span>)        │      <span style=\"color: #00af00; text-decoration-color: #00af00\">8,256</span> │ lstm[<span style=\"color: #00af00; text-decoration-color: #00af00\">0</span>][<span style=\"color: #00af00; text-decoration-color: #00af00\">0</span>]        │\n",
              "├─────────────────────┼───────────────────┼────────────┼───────────────────┤\n",
              "│ dense_1 (<span style=\"color: #0087ff; text-decoration-color: #0087ff\">Dense</span>)     │ (<span style=\"color: #00d7ff; text-decoration-color: #00d7ff\">None</span>, <span style=\"color: #00af00; text-decoration-color: #00af00\">32</span>)        │         <span style=\"color: #00af00; text-decoration-color: #00af00\">96</span> │ categorical_inpu… │\n",
              "├─────────────────────┼───────────────────┼────────────┼───────────────────┤\n",
              "│ dense_2 (<span style=\"color: #0087ff; text-decoration-color: #0087ff\">Dense</span>)     │ (<span style=\"color: #00d7ff; text-decoration-color: #00d7ff\">None</span>, <span style=\"color: #00af00; text-decoration-color: #00af00\">32</span>)        │        <span style=\"color: #00af00; text-decoration-color: #00af00\">160</span> │ numerical_input[<span style=\"color: #00af00; text-decoration-color: #00af00\">…</span> │\n",
              "├─────────────────────┼───────────────────┼────────────┼───────────────────┤\n",
              "│ dropout (<span style=\"color: #0087ff; text-decoration-color: #0087ff\">Dropout</span>)   │ (<span style=\"color: #00d7ff; text-decoration-color: #00d7ff\">None</span>, <span style=\"color: #00af00; text-decoration-color: #00af00\">64</span>)        │          <span style=\"color: #00af00; text-decoration-color: #00af00\">0</span> │ dense[<span style=\"color: #00af00; text-decoration-color: #00af00\">0</span>][<span style=\"color: #00af00; text-decoration-color: #00af00\">0</span>]       │\n",
              "├─────────────────────┼───────────────────┼────────────┼───────────────────┤\n",
              "│ dropout_1 (<span style=\"color: #0087ff; text-decoration-color: #0087ff\">Dropout</span>) │ (<span style=\"color: #00d7ff; text-decoration-color: #00d7ff\">None</span>, <span style=\"color: #00af00; text-decoration-color: #00af00\">32</span>)        │          <span style=\"color: #00af00; text-decoration-color: #00af00\">0</span> │ dense_1[<span style=\"color: #00af00; text-decoration-color: #00af00\">0</span>][<span style=\"color: #00af00; text-decoration-color: #00af00\">0</span>]     │\n",
              "├─────────────────────┼───────────────────┼────────────┼───────────────────┤\n",
              "│ dropout_2 (<span style=\"color: #0087ff; text-decoration-color: #0087ff\">Dropout</span>) │ (<span style=\"color: #00d7ff; text-decoration-color: #00d7ff\">None</span>, <span style=\"color: #00af00; text-decoration-color: #00af00\">32</span>)        │          <span style=\"color: #00af00; text-decoration-color: #00af00\">0</span> │ dense_2[<span style=\"color: #00af00; text-decoration-color: #00af00\">0</span>][<span style=\"color: #00af00; text-decoration-color: #00af00\">0</span>]     │\n",
              "├─────────────────────┼───────────────────┼────────────┼───────────────────┤\n",
              "│ concatenate         │ (<span style=\"color: #00d7ff; text-decoration-color: #00d7ff\">None</span>, <span style=\"color: #00af00; text-decoration-color: #00af00\">128</span>)       │          <span style=\"color: #00af00; text-decoration-color: #00af00\">0</span> │ dropout[<span style=\"color: #00af00; text-decoration-color: #00af00\">0</span>][<span style=\"color: #00af00; text-decoration-color: #00af00\">0</span>],    │\n",
              "│ (<span style=\"color: #0087ff; text-decoration-color: #0087ff\">Concatenate</span>)       │                   │            │ dropout_1[<span style=\"color: #00af00; text-decoration-color: #00af00\">0</span>][<span style=\"color: #00af00; text-decoration-color: #00af00\">0</span>],  │\n",
              "│                     │                   │            │ dropout_2[<span style=\"color: #00af00; text-decoration-color: #00af00\">0</span>][<span style=\"color: #00af00; text-decoration-color: #00af00\">0</span>]   │\n",
              "├─────────────────────┼───────────────────┼────────────┼───────────────────┤\n",
              "│ dense_3 (<span style=\"color: #0087ff; text-decoration-color: #0087ff\">Dense</span>)     │ (<span style=\"color: #00d7ff; text-decoration-color: #00d7ff\">None</span>, <span style=\"color: #00af00; text-decoration-color: #00af00\">128</span>)       │     <span style=\"color: #00af00; text-decoration-color: #00af00\">16,512</span> │ concatenate[<span style=\"color: #00af00; text-decoration-color: #00af00\">0</span>][<span style=\"color: #00af00; text-decoration-color: #00af00\">0</span>] │\n",
              "├─────────────────────┼───────────────────┼────────────┼───────────────────┤\n",
              "│ dropout_3 (<span style=\"color: #0087ff; text-decoration-color: #0087ff\">Dropout</span>) │ (<span style=\"color: #00d7ff; text-decoration-color: #00d7ff\">None</span>, <span style=\"color: #00af00; text-decoration-color: #00af00\">128</span>)       │          <span style=\"color: #00af00; text-decoration-color: #00af00\">0</span> │ dense_3[<span style=\"color: #00af00; text-decoration-color: #00af00\">0</span>][<span style=\"color: #00af00; text-decoration-color: #00af00\">0</span>]     │\n",
              "├─────────────────────┼───────────────────┼────────────┼───────────────────┤\n",
              "│ dense_4 (<span style=\"color: #0087ff; text-decoration-color: #0087ff\">Dense</span>)     │ (<span style=\"color: #00d7ff; text-decoration-color: #00d7ff\">None</span>, <span style=\"color: #00af00; text-decoration-color: #00af00\">128</span>)       │     <span style=\"color: #00af00; text-decoration-color: #00af00\">16,512</span> │ dropout_3[<span style=\"color: #00af00; text-decoration-color: #00af00\">0</span>][<span style=\"color: #00af00; text-decoration-color: #00af00\">0</span>]   │\n",
              "├─────────────────────┼───────────────────┼────────────┼───────────────────┤\n",
              "│ dropout_4 (<span style=\"color: #0087ff; text-decoration-color: #0087ff\">Dropout</span>) │ (<span style=\"color: #00d7ff; text-decoration-color: #00d7ff\">None</span>, <span style=\"color: #00af00; text-decoration-color: #00af00\">128</span>)       │          <span style=\"color: #00af00; text-decoration-color: #00af00\">0</span> │ dense_4[<span style=\"color: #00af00; text-decoration-color: #00af00\">0</span>][<span style=\"color: #00af00; text-decoration-color: #00af00\">0</span>]     │\n",
              "├─────────────────────┼───────────────────┼────────────┼───────────────────┤\n",
              "│ review_type_output  │ (<span style=\"color: #00d7ff; text-decoration-color: #00d7ff\">None</span>, <span style=\"color: #00af00; text-decoration-color: #00af00\">1</span>)         │        <span style=\"color: #00af00; text-decoration-color: #00af00\">129</span> │ dropout_4[<span style=\"color: #00af00; text-decoration-color: #00af00\">0</span>][<span style=\"color: #00af00; text-decoration-color: #00af00\">0</span>]   │\n",
              "│ (<span style=\"color: #0087ff; text-decoration-color: #0087ff\">Dense</span>)             │                   │            │                   │\n",
              "├─────────────────────┼───────────────────┼────────────┼───────────────────┤\n",
              "│ review_score_output │ (<span style=\"color: #00d7ff; text-decoration-color: #00d7ff\">None</span>, <span style=\"color: #00af00; text-decoration-color: #00af00\">1</span>)         │        <span style=\"color: #00af00; text-decoration-color: #00af00\">129</span> │ dropout_4[<span style=\"color: #00af00; text-decoration-color: #00af00\">0</span>][<span style=\"color: #00af00; text-decoration-color: #00af00\">0</span>]   │\n",
              "│ (<span style=\"color: #0087ff; text-decoration-color: #0087ff\">Dense</span>)             │                   │            │                   │\n",
              "└─────────────────────┴───────────────────┴────────────┴───────────────────┘\n",
              "</pre>\n"
            ]
          },
          "metadata": {}
        },
        {
          "output_type": "display_data",
          "data": {
            "text/plain": [
              "\u001b[1m Total params: \u001b[0m\u001b[38;5;34m1,552,242\u001b[0m (5.92 MB)\n"
            ],
            "text/html": [
              "<pre style=\"white-space:pre;overflow-x:auto;line-height:normal;font-family:Menlo,'DejaVu Sans Mono',consolas,'Courier New',monospace\"><span style=\"font-weight: bold\"> Total params: </span><span style=\"color: #00af00; text-decoration-color: #00af00\">1,552,242</span> (5.92 MB)\n",
              "</pre>\n"
            ]
          },
          "metadata": {}
        },
        {
          "output_type": "display_data",
          "data": {
            "text/plain": [
              "\u001b[1m Trainable params: \u001b[0m\u001b[38;5;34m1,552,242\u001b[0m (5.92 MB)\n"
            ],
            "text/html": [
              "<pre style=\"white-space:pre;overflow-x:auto;line-height:normal;font-family:Menlo,'DejaVu Sans Mono',consolas,'Courier New',monospace\"><span style=\"font-weight: bold\"> Trainable params: </span><span style=\"color: #00af00; text-decoration-color: #00af00\">1,552,242</span> (5.92 MB)\n",
              "</pre>\n"
            ]
          },
          "metadata": {}
        },
        {
          "output_type": "display_data",
          "data": {
            "text/plain": [
              "\u001b[1m Non-trainable params: \u001b[0m\u001b[38;5;34m0\u001b[0m (0.00 B)\n"
            ],
            "text/html": [
              "<pre style=\"white-space:pre;overflow-x:auto;line-height:normal;font-family:Menlo,'DejaVu Sans Mono',consolas,'Courier New',monospace\"><span style=\"font-weight: bold\"> Non-trainable params: </span><span style=\"color: #00af00; text-decoration-color: #00af00\">0</span> (0.00 B)\n",
              "</pre>\n"
            ]
          },
          "metadata": {}
        }
      ]
    },
    {
      "cell_type": "code",
      "source": [
        "early_stopping_callback = EarlyStopping(\n",
        "    monitor='val_loss',\n",
        "    patience=5,\n",
        "    restore_best_weights=True\n",
        ")"
      ],
      "metadata": {
        "id": "A_VB5NX0O3fa"
      },
      "execution_count": 17,
      "outputs": []
    },
    {
      "cell_type": "code",
      "source": [
        "history = model.fit(\n",
        "    X_train,\n",
        "    y_train,\n",
        "    epochs=epochs_hparam,\n",
        "    batch_size=batch_size_hparam,\n",
        "    validation_split=0.2,\n",
        "    callbacks=[early_stopping_callback],\n",
        "    verbose=1\n",
        ")"
      ],
      "metadata": {
        "colab": {
          "base_uri": "https://localhost:8080/"
        },
        "id": "EtUK5xGvO5Oo",
        "outputId": "d670be40-735c-4e99-f7c0-0b9e9f10faf1"
      },
      "execution_count": 18,
      "outputs": [
        {
          "output_type": "stream",
          "name": "stdout",
          "text": [
            "Epoch 1/50\n",
            "\u001b[1m276/276\u001b[0m \u001b[32m━━━━━━━━━━━━━━━━━━━━\u001b[0m\u001b[37m\u001b[0m \u001b[1m14s\u001b[0m 26ms/step - loss: 529.9943 - review_score_output_loss: 1051.4672 - review_type_output_loss: 8.5154 - val_loss: 10.6292 - val_review_score_output_loss: 20.3602 - val_review_type_output_loss: 0.9021\n",
            "Epoch 2/50\n",
            "\u001b[1m276/276\u001b[0m \u001b[32m━━━━━━━━━━━━━━━━━━━━\u001b[0m\u001b[37m\u001b[0m \u001b[1m6s\u001b[0m 22ms/step - loss: 16.0503 - review_score_output_loss: 30.1542 - review_type_output_loss: 1.9462 - val_loss: 6.6685 - val_review_score_output_loss: 12.6455 - val_review_type_output_loss: 0.6960\n",
            "Epoch 3/50\n",
            "\u001b[1m276/276\u001b[0m \u001b[32m━━━━━━━━━━━━━━━━━━━━\u001b[0m\u001b[37m\u001b[0m \u001b[1m10s\u001b[0m 35ms/step - loss: 6.5083 - review_score_output_loss: 12.1273 - review_type_output_loss: 0.8893 - val_loss: 6.0114 - val_review_score_output_loss: 11.3306 - val_review_type_output_loss: 0.6971\n",
            "Epoch 4/50\n",
            "\u001b[1m276/276\u001b[0m \u001b[32m━━━━━━━━━━━━━━━━━━━━\u001b[0m\u001b[37m\u001b[0m \u001b[1m11s\u001b[0m 39ms/step - loss: 5.1277 - review_score_output_loss: 9.4712 - review_type_output_loss: 0.7842 - val_loss: 4.2665 - val_review_score_output_loss: 7.8368 - val_review_type_output_loss: 0.7007\n",
            "Epoch 5/50\n",
            "\u001b[1m276/276\u001b[0m \u001b[32m━━━━━━━━━━━━━━━━━━━━\u001b[0m\u001b[37m\u001b[0m \u001b[1m16s\u001b[0m 22ms/step - loss: 4.5787 - review_score_output_loss: 8.4124 - review_type_output_loss: 0.7450 - val_loss: 4.2239 - val_review_score_output_loss: 7.7472 - val_review_type_output_loss: 0.7043\n",
            "Epoch 6/50\n",
            "\u001b[1m276/276\u001b[0m \u001b[32m━━━━━━━━━━━━━━━━━━━━\u001b[0m\u001b[37m\u001b[0m \u001b[1m10s\u001b[0m 21ms/step - loss: 4.2051 - review_score_output_loss: 7.6831 - review_type_output_loss: 0.7272 - val_loss: 3.5927 - val_review_score_output_loss: 6.4784 - val_review_type_output_loss: 0.7100\n",
            "Epoch 7/50\n",
            "\u001b[1m276/276\u001b[0m \u001b[32m━━━━━━━━━━━━━━━━━━━━\u001b[0m\u001b[37m\u001b[0m \u001b[1m6s\u001b[0m 23ms/step - loss: 4.1916 - review_score_output_loss: 7.6582 - review_type_output_loss: 0.7251 - val_loss: 4.5752 - val_review_score_output_loss: 8.4589 - val_review_type_output_loss: 0.6957\n",
            "Epoch 8/50\n",
            "\u001b[1m276/276\u001b[0m \u001b[32m━━━━━━━━━━━━━━━━━━━━\u001b[0m\u001b[37m\u001b[0m \u001b[1m10s\u001b[0m 24ms/step - loss: 3.9649 - review_score_output_loss: 7.2081 - review_type_output_loss: 0.7218 - val_loss: 4.0990 - val_review_score_output_loss: 7.5013 - val_review_type_output_loss: 0.7001\n",
            "Epoch 9/50\n",
            "\u001b[1m276/276\u001b[0m \u001b[32m━━━━━━━━━━━━━━━━━━━━\u001b[0m\u001b[37m\u001b[0m \u001b[1m10s\u001b[0m 23ms/step - loss: 3.8859 - review_score_output_loss: 7.0454 - review_type_output_loss: 0.7263 - val_loss: 4.2202 - val_review_score_output_loss: 7.7497 - val_review_type_output_loss: 0.6945\n",
            "Epoch 10/50\n",
            "\u001b[1m276/276\u001b[0m \u001b[32m━━━━━━━━━━━━━━━━━━━━\u001b[0m\u001b[37m\u001b[0m \u001b[1m10s\u001b[0m 21ms/step - loss: 3.7988 - review_score_output_loss: 6.8850 - review_type_output_loss: 0.7126 - val_loss: 4.8148 - val_review_score_output_loss: 8.9386 - val_review_type_output_loss: 0.6952\n",
            "Epoch 11/50\n",
            "\u001b[1m276/276\u001b[0m \u001b[32m━━━━━━━━━━━━━━━━━━━━\u001b[0m\u001b[37m\u001b[0m \u001b[1m6s\u001b[0m 23ms/step - loss: 3.7175 - review_score_output_loss: 6.7199 - review_type_output_loss: 0.7151 - val_loss: 3.8882 - val_review_score_output_loss: 7.0859 - val_review_type_output_loss: 0.6938\n"
          ]
        }
      ]
    },
    {
      "cell_type": "markdown",
      "source": [
        "## Model Evaluation on Unseen Test Data"
      ],
      "metadata": {
        "id": "D7KKA5zqbbfe"
      }
    },
    {
      "cell_type": "code",
      "source": [
        "test_loss_results = model.evaluate(X_test, y_test, verbose=1)\n"
      ],
      "metadata": {
        "colab": {
          "base_uri": "https://localhost:8080/"
        },
        "id": "K1o9rZQube1b",
        "outputId": "9ab36060-4dc7-45e4-fb79-4c7361d23e53"
      },
      "execution_count": 19,
      "outputs": [
        {
          "output_type": "stream",
          "name": "stdout",
          "text": [
            "\u001b[1m87/87\u001b[0m \u001b[32m━━━━━━━━━━━━━━━━━━━━\u001b[0m\u001b[37m\u001b[0m \u001b[1m1s\u001b[0m 10ms/step - loss: 3.4996 - review_score_output_loss: 6.2845 - review_type_output_loss: 0.7146\n"
          ]
        }
      ]
    },
    {
      "cell_type": "code",
      "source": [
        "predictions = model.predict(X_test)\n",
        "y_pred_type_probs = predictions[0]\n",
        "y_pred_score = predictions[1]\n",
        "\n",
        "y_pred_type_binary = (y_pred_type_probs > 0.5).astype(int)"
      ],
      "metadata": {
        "colab": {
          "base_uri": "https://localhost:8080/"
        },
        "id": "E2PdUctibjtu",
        "outputId": "8cea381d-8382-4db1-a454-315de97e69d2"
      },
      "execution_count": 20,
      "outputs": [
        {
          "output_type": "stream",
          "name": "stdout",
          "text": [
            "\u001b[1m87/87\u001b[0m \u001b[32m━━━━━━━━━━━━━━━━━━━━\u001b[0m\u001b[37m\u001b[0m \u001b[1m1s\u001b[0m 7ms/step\n"
          ]
        }
      ]
    },
    {
      "cell_type": "markdown",
      "source": [
        "### Review Type Prediction Metrics:"
      ],
      "metadata": {
        "id": "4r0pszRzggCZ"
      }
    },
    {
      "cell_type": "code",
      "source": [
        "# Calculate Accuracy\n",
        "accuracy = accuracy_score(y_test_type, y_pred_type_binary)\n",
        "print(f\"Accuracy: {accuracy:.4f}\")\n",
        "\n",
        "# Calculate Precision\n",
        "precision = precision_score(y_test_type, y_pred_type_binary)\n",
        "print(f\"Precision: {precision:.4f}\")\n",
        "\n",
        "# Calculate Recall\n",
        "recall = recall_score(y_test_type, y_pred_type_binary)\n",
        "print(f\"Recall: {recall:.4f}\")\n",
        "\n",
        "# Calculate F1 Score\n",
        "f1 = f1_score(y_test_type, y_pred_type_binary)\n",
        "print(f\"F1 Score: {f1:.4f}\")\n",
        "\n",
        "# Calculate ROC AUC\n",
        "roc_auc = roc_auc_score(y_test_type, y_pred_type_probs)\n",
        "print(f\"ROC AUC: {roc_auc:.4f}\")"
      ],
      "metadata": {
        "colab": {
          "base_uri": "https://localhost:8080/"
        },
        "id": "oqkXOVpfbp8Q",
        "outputId": "bf7f3d58-9fe5-4a40-9499-414de071f87b"
      },
      "execution_count": 22,
      "outputs": [
        {
          "output_type": "stream",
          "name": "stdout",
          "text": [
            "Accuracy: 0.4998\n",
            "Precision: 0.4998\n",
            "Recall: 1.0000\n",
            "F1 Score: 0.6665\n",
            "ROC AUC: 0.5535\n"
          ]
        }
      ]
    },
    {
      "cell_type": "markdown",
      "source": [
        "### Review Score Prediction Metrics:"
      ],
      "metadata": {
        "id": "bMg3uyt3gcuR"
      }
    },
    {
      "cell_type": "code",
      "source": [
        "# Calculate Mean Absolute Error (MAE)\n",
        "mae = mean_absolute_error(y_test_score, y_pred_score)\n",
        "print(f\"Mean Absolute Error (MAE): {mae:.4f}\")\n",
        "\n",
        "# Calculate Mean Squared Error (MSE)\n",
        "mse = mean_squared_error(y_test_score, y_pred_score)\n",
        "print(f\"Mean Squared Error (MSE): {mse:.4f}\")\n",
        "\n",
        "# Calculate Root Mean Squared Error (RMSE)\n",
        "rmse = np.sqrt(mse)\n",
        "print(f\"Root Mean Squared Error (RMSE): {rmse:.4f}\")\n"
      ],
      "metadata": {
        "colab": {
          "base_uri": "https://localhost:8080/"
        },
        "id": "s_lHDkASS5C1",
        "outputId": "2caf1e59-8cbd-4a13-8c25-5c5024d35423"
      },
      "execution_count": 23,
      "outputs": [
        {
          "output_type": "stream",
          "name": "stdout",
          "text": [
            "Mean Absolute Error (MAE): 2.0718\n",
            "Mean Squared Error (MSE): 6.3375\n",
            "Root Mean Squared Error (RMSE): 2.5174\n"
          ]
        }
      ]
    }
  ]
}